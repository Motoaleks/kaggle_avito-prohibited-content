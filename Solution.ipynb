{
 "cells": [
  {
   "cell_type": "code",
   "execution_count": 1,
   "metadata": {
    "collapsed": false
   },
   "outputs": [],
   "source": [
    "%matplotlib inline\n",
    "import warnings\n",
    "warnings.filterwarnings('ignore')\n",
    "\n",
    "import pandas as pd\n",
    "import numpy as np\n",
    "import matplotlib.pyplot as plt\n",
    "import sklearn\n",
    "from nltk.stem.snowball import RussianStemmer\n",
    "import sklearn \n",
    "import string\n",
    "\n",
    "from sklearn.feature_extraction.text import CountVectorizer"
   ]
  },
  {
   "cell_type": "code",
   "execution_count": 2,
   "metadata": {
    "collapsed": true
   },
   "outputs": [],
   "source": [
    "MAX_FEATURES = 5000 # Максимальное кол-во признаков-слов для CountVectorizer\n",
    "CAT_COLS = ['category', 'subcategory'] # факторизуемые колонки\n",
    "TARGET_COLUMNS = ['title', 'description', 'attrs', ['title', 'description']] # колонки, для построения BagOfWords тиблиц\n",
    "SEED = 8451 # Показатель рандома"
   ]
  },
  {
   "cell_type": "code",
   "execution_count": 3,
   "metadata": {
    "collapsed": false
   },
   "outputs": [],
   "source": [
    "data = pd.DataFrame.from_csv('data/avito_train.tsv', sep='\\t')"
   ]
  },
  {
   "cell_type": "code",
   "execution_count": 4,
   "metadata": {
    "collapsed": false
   },
   "outputs": [
    {
     "data": {
      "text/html": [
       "<div>\n",
       "<table border=\"1\" class=\"dataframe\">\n",
       "  <thead>\n",
       "    <tr style=\"text-align: right;\">\n",
       "      <th></th>\n",
       "      <th>category</th>\n",
       "      <th>subcategory</th>\n",
       "      <th>title</th>\n",
       "      <th>description</th>\n",
       "      <th>attrs</th>\n",
       "      <th>price</th>\n",
       "      <th>is_proved</th>\n",
       "      <th>is_blocked</th>\n",
       "      <th>phones_cnt</th>\n",
       "      <th>emails_cnt</th>\n",
       "      <th>urls_cnt</th>\n",
       "      <th>close_hours</th>\n",
       "    </tr>\n",
       "    <tr>\n",
       "      <th>itemid</th>\n",
       "      <th></th>\n",
       "      <th></th>\n",
       "      <th></th>\n",
       "      <th></th>\n",
       "      <th></th>\n",
       "      <th></th>\n",
       "      <th></th>\n",
       "      <th></th>\n",
       "      <th></th>\n",
       "      <th></th>\n",
       "      <th></th>\n",
       "      <th></th>\n",
       "    </tr>\n",
       "  </thead>\n",
       "  <tbody>\n",
       "    <tr>\n",
       "      <th>10000010</th>\n",
       "      <td>Транспорт</td>\n",
       "      <td>Автомобили с пробегом</td>\n",
       "      <td>Toyota Sera, 1991</td>\n",
       "      <td>Новая оригинальная линзованая оптика на ксенон...</td>\n",
       "      <td>{\"Год выпуска\":\"1991\", \"Тип кузова\":\"Купе\", \"П...</td>\n",
       "      <td>150000</td>\n",
       "      <td>NaN</td>\n",
       "      <td>0</td>\n",
       "      <td>0</td>\n",
       "      <td>0</td>\n",
       "      <td>0</td>\n",
       "      <td>0.03</td>\n",
       "    </tr>\n",
       "  </tbody>\n",
       "</table>\n",
       "</div>"
      ],
      "text/plain": [
       "           category            subcategory              title  \\\n",
       "itemid                                                          \n",
       "10000010  Транспорт  Автомобили с пробегом  Toyota Sera, 1991   \n",
       "\n",
       "                                                description  \\\n",
       "itemid                                                        \n",
       "10000010  Новая оригинальная линзованая оптика на ксенон...   \n",
       "\n",
       "                                                      attrs   price  \\\n",
       "itemid                                                                \n",
       "10000010  {\"Год выпуска\":\"1991\", \"Тип кузова\":\"Купе\", \"П...  150000   \n",
       "\n",
       "          is_proved  is_blocked  phones_cnt  emails_cnt  urls_cnt  close_hours  \n",
       "itemid                                                                          \n",
       "10000010        NaN           0           0           0         0         0.03  "
      ]
     },
     "execution_count": 4,
     "metadata": {},
     "output_type": "execute_result"
    }
   ],
   "source": [
    "data.head(1)"
   ]
  },
  {
   "cell_type": "code",
   "execution_count": 5,
   "metadata": {
    "collapsed": false
   },
   "outputs": [
    {
     "data": {
      "text/plain": [
       "(3995803, 12)"
      ]
     },
     "execution_count": 5,
     "metadata": {},
     "output_type": "execute_result"
    }
   ],
   "source": [
    "train = data[:10000]\n",
    "data.shape"
   ]
  },
  {
   "cell_type": "code",
   "execution_count": 6,
   "metadata": {
    "collapsed": false
   },
   "outputs": [
    {
     "name": "stdout",
     "output_type": "stream",
     "text": [
      "category             object         10\n",
      "subcategory          object         53\n",
      "title                object       8542\n",
      "description          object       9842\n",
      "attrs                object       4405\n",
      "price                int64       1344\n",
      "is_proved            float64          3\n",
      "is_blocked           int64          2\n",
      "phones_cnt           int64          8\n",
      "emails_cnt           int64          3\n",
      "urls_cnt             int64          6\n",
      "close_hours          float64       2124\n"
     ]
    }
   ],
   "source": [
    "# просматриваем информацию в колонках\n",
    "for column in train.columns:\n",
    "    print(\"{: <20} {:} {: >10}\".format(column, train[column].dtype, len(train[column].unique())))"
   ]
  },
  {
   "cell_type": "markdown",
   "metadata": {
    "collapsed": true
   },
   "source": [
    ".# по таблице определяем категориальные string колонки\n",
    "cat_cols = ['category','subcategory']"
   ]
  },
  {
   "cell_type": "markdown",
   "metadata": {
    "collapsed": false
   },
   "source": [
    "import pandas as pd\n",
    "import numpy as np\n",
    "from sklearn.preprocessing import OneHotEncoder\n",
    "from sklearn.preprocessing import LabelEncoder\n",
    "\n",
    "enc = LabelEncoder()\n",
    "train[cat_cols] = train[cat_cols].apply(lambda x: pd.factorize(x)[0])"
   ]
  },
  {
   "cell_type": "code",
   "execution_count": 7,
   "metadata": {
    "collapsed": false
   },
   "outputs": [],
   "source": [
    "# %load scripts/preprocessing.py\n",
    "from nltk.stem.snowball import RussianStemmer\n",
    "from nltk.corpus import stopwords\n",
    "import re\n",
    "from sklearn.feature_extraction.text import CountVectorizer\n",
    "\n",
    "# стемминг и знаки пунктуации\n",
    "stemmer = RussianStemmer()\n",
    "exclude = string.punctuation + string.digits\n",
    "stopwords = set(stopwords.words(\"russian\"))\n",
    "\n",
    "vectorizer = None\n",
    "\n",
    "# Преобразование строки в массив слов со стеммингом и lower()\n",
    "def clear(text):\n",
    "    # pre. Проверка на нули в данных\n",
    "    text = str(text)\n",
    "    if text == \"nan\":\n",
    "        return []\n",
    "    # 1. Убираем не-буквы\n",
    "    temp = re.sub(\"[^a-zA-Z|^а-яА-Я]\", \" \", text)\n",
    "    # 2. Преобразуем в прописные и делим по словам\n",
    "    temp = temp.lower().split()\n",
    "    # 3. Стемминг и уборка стоп-слов\n",
    "    temp = [stemmer.stem(i) for i in temp if i not in stopwords]\n",
    "    temp = [i for i in temp if len(i) > 2]\n",
    "    return temp\n",
    "\n",
    "# Создание таблицы BagOfWords из колонки\n",
    "def frame(df, column):\n",
    "    global vectorizer;\n",
    "    print(\"COLUMN: {0}\".format(column))\n",
    "    # 1. Получаем очищенные данные и представляем строчкой\n",
    "    cleared = []\n",
    "    if type(column) is str: # обработка одной колонки\n",
    "        cleared = [\" \".join(clear(i)) for i in df[column]]\n",
    "    else:\n",
    "        for col in column: # обработка ряда колонок\n",
    "            temp = [\" \".join(clear(i)) for i in df[col]]\n",
    "            cleared = cleared + temp\n",
    "    print(\"- Cleared\")\n",
    "    # 2. Создаём CountVectorizer - подсчёта слов\n",
    "    vectorizer = CountVectorizer(analyzer=\"word\",\n",
    "                                 tokenizer=None,\n",
    "                                 preprocessor=None,\n",
    "                                 stop_words=None,\n",
    "                                 max_features=MAX_FEATURES)\n",
    "    print(\"- Words extracted\")\n",
    "    # 3. Учим словарю и обрабатываем \n",
    "    features = vectorizer.fit_transform(cleared)\n",
    "    print(\"- Processed\\n\")\n",
    "    return features"
   ]
  },
  {
   "cell_type": "code",
   "execution_count": 8,
   "metadata": {
    "collapsed": false
   },
   "outputs": [
    {
     "name": "stdout",
     "output_type": "stream",
     "text": [
      "COLUMN: description\n",
      "- Cleared\n",
      "- Words extracted\n",
      "- Processed\n",
      "\n"
     ]
    },
    {
     "data": {
      "text/plain": [
       "<matplotlib.axes._subplots.AxesSubplot at 0x1b22ee5d9e8>"
      ]
     },
     "execution_count": 8,
     "metadata": {},
     "output_type": "execute_result"
    },
    {
     "data": {
      "image/png": "[encoded data removed]",
      "text/plain": [
       "<matplotlib.figure.Figure at 0x1b198f3e908>"
      ]
     },
     "metadata": {},
     "output_type": "display_data"
    }
   ],
   "source": [
    "# Проверка на работу методов на тестовых данных + визуализация CountVectorizer\n",
    "temp = frame(train, \"description\").toarray()\n",
    "\n",
    "# Получаем кол-во встреч слов\n",
    "dist = np.sum(temp, axis=0).tolist()\n",
    "# Получаем сами слова\n",
    "vocab = vectorizer.get_feature_names()\n",
    "\n",
    "# Формируем фрейм\n",
    "data_counts = pd.DataFrame([dist,vocab]).T\n",
    "data_counts.columns=[\"Count\",\"Word\"]\n",
    "data_counts = data_counts.sort_values(\"Count\", ascending=False)\n",
    "# График по первым 20 словам\n",
    "data_counts.set_index('Word').iloc[:20].plot.bar()"
   ]
  },
  {
   "cell_type": "code",
   "execution_count": null,
   "metadata": {
    "collapsed": true
   },
   "outputs": [],
   "source": []
  },
  {
   "cell_type": "code",
   "execution_count": null,
   "metadata": {
    "collapsed": true
   },
   "outputs": [],
   "source": []
  },
  {
   "cell_type": "code",
   "execution_count": null,
   "metadata": {
    "collapsed": true
   },
   "outputs": [],
   "source": []
  },
  {
   "cell_type": "code",
   "execution_count": 9,
   "metadata": {
    "collapsed": true
   },
   "outputs": [],
   "source": [
    "# копирование на всяк случай. \n",
    "# df = data # реальные данные\n",
    "df = train # тестовые, для счёта"
   ]
  },
  {
   "cell_type": "code",
   "execution_count": 10,
   "metadata": {
    "collapsed": false
   },
   "outputs": [
    {
     "name": "stdout",
     "output_type": "stream",
     "text": [
      "COLUMN: title\n",
      "- Cleared\n",
      "- Words extracted\n",
      "- Processed\n",
      "\n",
      "COLUMN: description\n",
      "- Cleared\n",
      "- Words extracted\n",
      "- Processed\n",
      "\n",
      "COLUMN: attrs\n",
      "- Cleared\n",
      "- Words extracted\n",
      "- Processed\n",
      "\n",
      "COLUMN: ['title', 'description']\n",
      "- Cleared\n",
      "- Words extracted\n",
      "- Processed\n",
      "\n"
     ]
    }
   ],
   "source": [
    "###\n",
    "### Полный процесс предобработки данных\n",
    "###\n",
    "\n",
    "\n",
    "# 1. Факторизация категориальных данных\n",
    "df[CAT_COLS] = df[CAT_COLS].apply(lambda x: pd.factorize(x)[0])\n",
    "\n",
    "# 2. Получение матриц BagOgWords\n",
    "sparse_frames = [frame(df, i) for i in TARGET_COLUMNS]\n",
    "\n",
    "# 3. Обучаем модель_1[] (модели) для каждой матрицы\n",
    "\n",
    "\n",
    "# 4. Делаем предсказания модель_1[] каждой матрицы\n",
    "\n",
    "# 5. Делаем сводную матрицу и добавляем столбцы категорий+доп.данных\n",
    "\n",
    "# 7. По сводной матрице обучаем модель_2\n",
    "\n",
    "# 8. По сводной матрице делаем предсказание модель_2"
   ]
  },
  {
   "cell_type": "code",
   "execution_count": 11,
   "metadata": {
    "collapsed": false
   },
   "outputs": [
    {
     "name": "stderr",
     "output_type": "stream",
     "text": [
      "C:\\ProgramData\\Anaconda3\\lib\\site-packages\\sklearn\\cross_validation.py:44: DeprecationWarning: This module was deprecated in version 0.18 in favor of the model_selection module into which all the refactored classes and functions are moved. Also note that the interface of the new CV iterators are different from that of this module. This module will be removed in 0.20.\n",
      "  \"This module will be removed in 0.20.\", DeprecationWarning)\n",
      "C:\\ProgramData\\Anaconda3\\lib\\site-packages\\sklearn\\grid_search.py:43: DeprecationWarning: This module was deprecated in version 0.18 in favor of the model_selection module into which all the refactored classes and functions are moved. This module will be removed in 0.20.\n",
      "  DeprecationWarning)\n"
     ]
    }
   ],
   "source": [
    "from sklearn.model_selection import cross_val_score\n",
    "from sklearn.ensemble import RandomForestClassifier\n",
    "from sklearn.model_selection import train_test_split\n",
    "from sklearn.grid_search import GridSearchCV\n",
    "\n",
    "temp = pd.DataFrame(sparse_frames[0].toarray())"
   ]
  },
  {
   "cell_type": "code",
   "execution_count": null,
   "metadata": {
    "collapsed": false
   },
   "outputs": [
    {
     "name": "stdout",
     "output_type": "stream",
     "text": [
      "##### Started: title\n",
      "Fitting 3 folds for each of 4 candidates, totalling 12 fits\n"
     ]
    },
    {
     "name": "stderr",
     "output_type": "stream",
     "text": [
      "[Parallel(n_jobs=1)]: Done  12 out of  12 | elapsed:  1.5min finished\n"
     ]
    },
    {
     "name": "stdout",
     "output_type": "stream",
     "text": [
      "##### Started: description\n",
      "Fitting 3 folds for each of 4 candidates, totalling 12 fits\n"
     ]
    }
   ],
   "source": [
    "params = list()\n",
    "\n",
    "forest=RandomForestClassifier(n_estimators=10, random_state=SEED)\n",
    "param_grid = {\"max_depth\": [3, None],\n",
    "#               \"max_features\": [3, 10, 30, 40],\n",
    "              \"min_samples_split\": [3, 5],\n",
    "#               \"min_samples_leaf\": [3, 10],\n",
    "#               \"bootstrap\": [True, False],\n",
    "#               \"criterion\": [\"gini\", \"entropy\"]}\n",
    "             }\n",
    "i = 0\n",
    "for fr in sparse_frames:\n",
    "    print(\"##### Started: \" + TARGET_COLUMNS[i])\n",
    "    i += 1\n",
    "    X = pd.DataFrame(fr.toarray())\n",
    "    y = df.is_blocked\n",
    "    grid_search = GridSearchCV(forest, param_grid=param_grid, verbose=1)\n",
    "    grid_search.fit(X, y)\n",
    "    params.append(grid_search.best_params_)"
   ]
  },
  {
   "cell_type": "code",
   "execution_count": null,
   "metadata": {
    "collapsed": false
   },
   "outputs": [],
   "source": [
    "clf = RandomForestClassifier(n_estimators=10)\n",
    "scores = cross_val_score(clf, X_train, y_train, cv=5)\n",
    "scores"
   ]
  },
  {
   "cell_type": "code",
   "execution_count": null,
   "metadata": {
    "collapsed": false
   },
   "outputs": [],
   "source": [
    "target.value_counts()"
   ]
  },
  {
   "cell_type": "markdown",
   "metadata": {},
   "source": [
    "=9322/10000"
   ]
  },
  {
   "cell_type": "code",
   "execution_count": null,
   "metadata": {
    "collapsed": false
   },
   "outputs": [],
   "source": [
    "data_test = pd.DataFrame.from_csv('data/avito_test.tsv', sep='\\t')\n",
    "data_test.head(1)"
   ]
  },
  {
   "cell_type": "code",
   "execution_count": null,
   "metadata": {
    "collapsed": false
   },
   "outputs": [],
   "source": [
    "import sys\n",
    "sys.path.append('./scripts')\n",
    "import preprocessing"
   ]
  },
  {
   "cell_type": "code",
   "execution_count": null,
   "metadata": {
    "collapsed": false
   },
   "outputs": [],
   "source": [
    "df_title = pd.DataFrame(preprocessing.frame(train,\"title\").toarray())\n",
    "df_desc = pd.DataFrame(preprocessing.frame(train,\"description\").toarray())\n",
    "df_attrs = pd.DataFrame(preprocessing.frame(train,\"attrs\").toarray())"
   ]
  }
 ],
 "metadata": {
  "kernelspec": {
   "display_name": "Python 3",
   "language": "python",
   "name": "python3"
  },
  "language_info": {
   "codemirror_mode": {
    "name": "ipython",
    "version": 3
   },
   "file_extension": ".py",
   "mimetype": "text/x-python",
   "name": "python",
   "nbconvert_exporter": "python",
   "pygments_lexer": "ipython3",
   "version": "3.6.0"
  }
 },
 "nbformat": 4,
 "nbformat_minor": 2
}
